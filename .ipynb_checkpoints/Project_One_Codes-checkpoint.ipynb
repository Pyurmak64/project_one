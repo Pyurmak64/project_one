{
 "cells": [
  {
   "cell_type": "code",
   "execution_count": null,
   "metadata": {},
   "outputs": [],
   "source": [
    "import pandas as pd\n",
    "import numpy as np\n",
    "from scipy import stats\n",
    "from pandas import DataFrame\n",
    "import seaborn\n",
    "import glob\n",
    "import os\n",
    "import urllib\n",
    "import matplotlib.pyplot as plt\n",
    "import matplotlib.dates as mdates\n",
    "import matplotlib.ticker as mticker\n",
    "from matplotlib.finance import candlestick_ohlc\n",
    "from matplotlib import style\n",
    "import datetime as dt\n",
    "%matplotlib inline"
   ]
  },
  {
   "cell_type": "code",
   "execution_count": null,
   "metadata": {},
   "outputs": [],
   "source": [
    "style.use('fivethirtyeight')\n",
    "print(plt.style.available)"
   ]
  },
  {
   "cell_type": "code",
   "execution_count": null,
   "metadata": {},
   "outputs": [],
   "source": [
    "print(plt.__file__)"
   ]
  },
  {
   "cell_type": "code",
   "execution_count": null,
   "metadata": {},
   "outputs": [],
   "source": [
    "path = r'C:\\Users\\Komron\\Documents\\PythonData\\project_one'\n",
    "all_files = glob.glob(os.path.join(path, '*.csv'))\n",
    "\n",
    "df_from_each_file = (pd.read_csv(f) for f in all_files)\n",
    "\n",
    "concatenated_df = pd.concat(df_from_each_file, ignore_index=True)\n",
    "concatenated_df.head()"
   ]
  },
  {
   "cell_type": "code",
   "execution_count": null,
   "metadata": {
    "collapsed": true
   },
   "outputs": [],
   "source": [
    "MA1 = 10\n",
    "MA2 = 30\n",
    "\n",
    "def moving_average(values, window):\n",
    "    weights = np.repeat(1.0, window)/window\n",
    "    smas = np.convolve(values, weights, 'valid')\n",
    "    return smas"
   ]
  },
  {
   "cell_type": "code",
   "execution_count": null,
   "metadata": {
    "collapsed": true
   },
   "outputs": [],
   "source": [
    "def high_minus_low(highs, lows):\n",
    "    return highs-lows"
   ]
  },
  {
   "cell_type": "code",
   "execution_count": null,
   "metadata": {
    "collapsed": true
   },
   "outputs": [],
   "source": [
    "def bytespdate2num(fmt, encoding='utf-8'):\n",
    "    strconverter = mdates.strpdate2num(fmt)\n",
    "    def bytesconverter(b):\n",
    "        s = b.decode(encoding)\n",
    "        return strconverter(s)\n",
    "    return bytesconverter"
   ]
  },
  {
   "cell_type": "code",
   "execution_count": null,
   "metadata": {
    "collapsed": true
   },
   "outputs": [],
   "source": [
    "def graph_data(stock):\n",
    "\n",
    "    fig = plt.figure(facecolor='#f0f0f0')\n",
    "    ax1 = plt.subplot2grid((6,1), (0,0), rowspan=1, colspan=1)\n",
    "    plt.title(stock)\n",
    "    plt.ylabel('H-L')\n",
    "    \n",
    "    ax2 = plt.subplot2grid((6,1), (1,0), rowspan=4, colspan=1, sharex=ax1)\n",
    "    plt.ylabel('Price')\n",
    "    ax2v = ax2.twinx()\n",
    "    \n",
    "    ax3 = plt.subplot2grid((6,1), (5,0), rowspan=1, colspan=1, sharex=ax1)\n",
    "    plt.ylabel('MAvgs')"
   ]
  },
  {
   "cell_type": "code",
   "execution_count": 11,
   "metadata": {},
   "outputs": [],
   "source": [
    "#stock_price_url = 'http://chartapi.finance.yahoo.com/instrument/1.0/'+stock+'/chartdata;type=quote;range=1y/csv'\n",
    "#source_code = urllib.request.urlopen(stock_price_url).read().decode()\n",
    "stock_data = concatenated_df\n",
    "#split_source = concatenated_df.split('\\n')\n",
    "#for line in split_source:\n",
    "    #split_line = line.split(',')\n",
    "    #if len(split_line) == 6:\n",
    "        #if 'values' not in line and 'labels' not in line:\n",
    "            #stock_data.append(line)\n",
    "\n",
    "    \n",
    "#date, closep, highp, lowp, openp, volume = np.loadtxt(stock_data,\n",
    "                                                        #delimiter=',',\n",
    "                                                        #unpack=True,\n",
    "                                                        #converters={0: bytespdate2num('%Y%m%d')})"
   ]
  },
  {
   "cell_type": "code",
   "execution_count": null,
   "metadata": {
    "collapsed": true
   },
   "outputs": [],
   "source": [
    "date = concatenated_df['Date'].tolist()\n",
    "closep = concatenated_df['Close'].tolist()\n",
    "highp = concatenated_df['High'].tolist()\n",
    "lowp = concatenated_df['Low'].tolist()\n",
    "openp = concatenated_df['Open'].tolist()\n",
    "volume = concatenated_df['Volume'].tolist()"
   ]
  },
  {
   "cell_type": "code",
   "execution_count": null,
   "metadata": {},
   "outputs": [],
   "source": [
    "    x = 0\n",
    "    y = len(date)\n",
    "    ohlc = []\n",
    "\n",
    "    while x < y:\n",
    "        append_me = date[x], openp[x], highp[x], lowp[x], closep[x], volume[x]\n",
    "        ohlc.append(append_me)\n",
    "        x+=1\n",
    "        \n",
    "    ma1 = moving_average(closep,MA1)\n",
    "    ma2 = moving_average(closep,MA2)\n",
    "    start = len(date[MA2-1:])\n",
    "    \n",
    "    h_l = list(map(high_minus_low, highp, lowp))\n",
    "        "
   ]
  },
  {
   "cell_type": "code",
   "execution_count": null,
   "metadata": {},
   "outputs": [],
   "source": [
    "ax1 = plt.subplot2grid((6,1), (0,0), rowspan=1, colspan=1)\n",
    "ax2 = plt.subplot2grid((6,1), (1,0), rowspan=4, colspan=1, sharex=ax1)\n",
    "ax1.plot_date(date[-start:],h_l[-start:],'-', label='H-L')\n",
    "ax1.yaxis.set_major_locator(mticker.MaxNLocator(nbins=4, prune='lower'))"
   ]
  },
  {
   "cell_type": "code",
   "execution_count": 16,
   "metadata": {},
   "outputs": [],
   "source": [
    "#candlestick_ohlc(ax2, ohlc[-start:], width=0.4, colorup='#77d879', colordown='#db3f3f')"
   ]
  },
  {
   "cell_type": "code",
   "execution_count": 20,
   "metadata": {
    "collapsed": true
   },
   "outputs": [],
   "source": [
    "    ax2.yaxis.set_major_locator(mticker.MaxNLocator(nbins=7, prune='upper'))\n",
    "    ax2.grid(True)"
   ]
  },
  {
   "cell_type": "code",
   "execution_count": 21,
   "metadata": {
    "collapsed": true
   },
   "outputs": [],
   "source": [
    "    bbox_props = dict(boxstyle='round',fc='w', ec='k',lw=1)"
   ]
  },
  {
   "cell_type": "code",
   "execution_count": 22,
   "metadata": {},
   "outputs": [
    {
     "ename": "KeyError",
     "evalue": "-1",
     "output_type": "error",
     "traceback": [
      "\u001b[1;31m---------------------------------------------------------------------------\u001b[0m",
      "\u001b[1;31mKeyError\u001b[0m                                  Traceback (most recent call last)",
      "\u001b[1;32m<ipython-input-22-7321cb9075b1>\u001b[0m in \u001b[0;36m<module>\u001b[1;34m()\u001b[0m\n\u001b[1;32m----> 1\u001b[1;33m ax2.annotate(str(closep[-1]), (date[-1], closep[-1]),\n\u001b[0m\u001b[0;32m      2\u001b[0m              xytext = (date[-1]+4, closep[-1]), bbox=bbox_props)\n",
      "\u001b[1;32m~\\Anaconda3\\lib\\site-packages\\pandas\\core\\series.py\u001b[0m in \u001b[0;36m__getitem__\u001b[1;34m(self, key)\u001b[0m\n\u001b[0;32m    599\u001b[0m         \u001b[0mkey\u001b[0m \u001b[1;33m=\u001b[0m \u001b[0mcom\u001b[0m\u001b[1;33m.\u001b[0m\u001b[0m_apply_if_callable\u001b[0m\u001b[1;33m(\u001b[0m\u001b[0mkey\u001b[0m\u001b[1;33m,\u001b[0m \u001b[0mself\u001b[0m\u001b[1;33m)\u001b[0m\u001b[1;33m\u001b[0m\u001b[0m\n\u001b[0;32m    600\u001b[0m         \u001b[1;32mtry\u001b[0m\u001b[1;33m:\u001b[0m\u001b[1;33m\u001b[0m\u001b[0m\n\u001b[1;32m--> 601\u001b[1;33m             \u001b[0mresult\u001b[0m \u001b[1;33m=\u001b[0m \u001b[0mself\u001b[0m\u001b[1;33m.\u001b[0m\u001b[0mindex\u001b[0m\u001b[1;33m.\u001b[0m\u001b[0mget_value\u001b[0m\u001b[1;33m(\u001b[0m\u001b[0mself\u001b[0m\u001b[1;33m,\u001b[0m \u001b[0mkey\u001b[0m\u001b[1;33m)\u001b[0m\u001b[1;33m\u001b[0m\u001b[0m\n\u001b[0m\u001b[0;32m    602\u001b[0m \u001b[1;33m\u001b[0m\u001b[0m\n\u001b[0;32m    603\u001b[0m             \u001b[1;32mif\u001b[0m \u001b[1;32mnot\u001b[0m \u001b[0mis_scalar\u001b[0m\u001b[1;33m(\u001b[0m\u001b[0mresult\u001b[0m\u001b[1;33m)\u001b[0m\u001b[1;33m:\u001b[0m\u001b[1;33m\u001b[0m\u001b[0m\n",
      "\u001b[1;32m~\\Anaconda3\\lib\\site-packages\\pandas\\core\\indexes\\base.py\u001b[0m in \u001b[0;36mget_value\u001b[1;34m(self, series, key)\u001b[0m\n\u001b[0;32m   2475\u001b[0m         \u001b[1;32mtry\u001b[0m\u001b[1;33m:\u001b[0m\u001b[1;33m\u001b[0m\u001b[0m\n\u001b[0;32m   2476\u001b[0m             return self._engine.get_value(s, k,\n\u001b[1;32m-> 2477\u001b[1;33m                                           tz=getattr(series.dtype, 'tz', None))\n\u001b[0m\u001b[0;32m   2478\u001b[0m         \u001b[1;32mexcept\u001b[0m \u001b[0mKeyError\u001b[0m \u001b[1;32mas\u001b[0m \u001b[0me1\u001b[0m\u001b[1;33m:\u001b[0m\u001b[1;33m\u001b[0m\u001b[0m\n\u001b[0;32m   2479\u001b[0m             \u001b[1;32mif\u001b[0m \u001b[0mlen\u001b[0m\u001b[1;33m(\u001b[0m\u001b[0mself\u001b[0m\u001b[1;33m)\u001b[0m \u001b[1;33m>\u001b[0m \u001b[1;36m0\u001b[0m \u001b[1;32mand\u001b[0m \u001b[0mself\u001b[0m\u001b[1;33m.\u001b[0m\u001b[0minferred_type\u001b[0m \u001b[1;32min\u001b[0m \u001b[1;33m[\u001b[0m\u001b[1;34m'integer'\u001b[0m\u001b[1;33m,\u001b[0m \u001b[1;34m'boolean'\u001b[0m\u001b[1;33m]\u001b[0m\u001b[1;33m:\u001b[0m\u001b[1;33m\u001b[0m\u001b[0m\n",
      "\u001b[1;32mpandas\\_libs\\index.pyx\u001b[0m in \u001b[0;36mpandas._libs.index.IndexEngine.get_value\u001b[1;34m()\u001b[0m\n",
      "\u001b[1;32mpandas\\_libs\\index.pyx\u001b[0m in \u001b[0;36mpandas._libs.index.IndexEngine.get_value\u001b[1;34m()\u001b[0m\n",
      "\u001b[1;32mpandas\\_libs\\index.pyx\u001b[0m in \u001b[0;36mpandas._libs.index.IndexEngine.get_loc\u001b[1;34m()\u001b[0m\n",
      "\u001b[1;32mpandas\\_libs\\hashtable_class_helper.pxi\u001b[0m in \u001b[0;36mpandas._libs.hashtable.Int64HashTable.get_item\u001b[1;34m()\u001b[0m\n",
      "\u001b[1;32mpandas\\_libs\\hashtable_class_helper.pxi\u001b[0m in \u001b[0;36mpandas._libs.hashtable.Int64HashTable.get_item\u001b[1;34m()\u001b[0m\n",
      "\u001b[1;31mKeyError\u001b[0m: -1"
     ]
    }
   ],
   "source": [
    "    ax2.annotate(str(closep[-1]), (date[-1], closep[-1]),\n",
    "                 xytext = (date[-1]+4, closep[-1]), bbox=bbox_props)"
   ]
  },
  {
   "cell_type": "code",
   "execution_count": null,
   "metadata": {},
   "outputs": [],
   "source": [
    "    ax2.annotate(str(closep[-1]), (date[-1], closep[-1]),\n",
    "                 xytext = (date[-1]+4, closep[-1]), bbox=bbox_props)"
   ]
  },
  {
   "cell_type": "code",
   "execution_count": null,
   "metadata": {},
   "outputs": [],
   "source": [
    "    ax2v.plot([],[], color='#0079a3', alpha=0.4, label='Volume')\n",
    "    ax2v.fill_between(date[-start:],0, volume[-start:], facecolor='#0079a3', alpha=0.4)\n",
    "    ax2v.axes.yaxis.set_ticklabels([])\n",
    "    ax2v.grid(False)\n",
    "    ax2v.set_ylim(0, 3*volume.max())"
   ]
  },
  {
   "cell_type": "code",
   "execution_count": null,
   "metadata": {},
   "outputs": [],
   "source": [
    "    ax3.plot(date[-start:], ma1[-start:], linewidth=1, label=(str(MA1)+'MA'))\n",
    "    ax3.plot(date[-start:], ma2[-start:], linewidth=1, label=(str(MA2)+'MA'))\n",
    "    \n",
    "    ax3.fill_between(date[-start:], ma2[-start:], ma1[-start:],\n",
    "                     where=(ma1[-start:] < ma2[-start:]),\n",
    "                     facecolor='r', edgecolor='r', alpha=0.5)\n",
    "\n",
    "    ax3.fill_between(date[-start:], ma2[-start:], ma1[-start:],\n",
    "                     where=(ma1[-start:] > ma2[-start:]),\n",
    "                     facecolor='g', edgecolor='g', alpha=0.5)\n",
    "    \n",
    "    ax3.xaxis.set_major_formatter(mdates.DateFormatter('%Y-%m-%d'))\n",
    "    ax3.xaxis.set_major_locator(mticker.MaxNLocator(10))\n",
    "    ax3.yaxis.set_major_locator(mticker.MaxNLocator(nbins=4, prune='upper'))"
   ]
  },
  {
   "cell_type": "code",
   "execution_count": null,
   "metadata": {
    "collapsed": true
   },
   "outputs": [],
   "source": [
    "concat"
   ]
  },
  {
   "cell_type": "code",
   "execution_count": null,
   "metadata": {},
   "outputs": [],
   "source": [
    "    #x = 0\n",
    "    #y = len(date)\n",
    "    #ohlc = []\n",
    "\n",
    "    #while x < y:\n",
    "        #append_me = date[x], openp[x], highp[x], lowp[x], closep[x], volume[x]\n",
    "        #ohlc.append(append_me)\n",
    "        #x+=1\n",
    "\n",
    "    #ma1 = moving_average(closep,MA1)\n",
    "    #ma2 = moving_average(closep,MA2)\n",
    "    #start = len(date[MA2-1:])\n",
    "\n",
    "    #h_l = list(map(high_minus_low, highp, lowp))\n",
    "    \n",
    "\n",
    "    #ax1.plot_date(date[-start:],h_l[-start:],'-', label='H-L')\n",
    "    #ax1.yaxis.set_major_locator(mticker.MaxNLocator(nbins=4, prune='lower'))\n",
    "\n",
    "\n",
    "    #candlestick_ohlc(ax2, ohlc[-start:], width=0.4, colorup='#77d879', colordown='#db3f3f')\n",
    "  \n",
    "    \n",
    "\n",
    "    #ax2.yaxis.set_major_locator(mticker.MaxNLocator(nbins=7, prune='upper'))\n",
    "    #ax2.grid(True)\n",
    "    \n",
    "    #bbox_props = dict(boxstyle='round',fc='w', ec='k',lw=1)\n",
    "    \n",
    "    #ax2.annotate(str(closep[-1]), (date[-1], closep[-1]),\n",
    "                 #xytext = (date[-1]+4, closep[-1]), bbox=bbox_props)\n",
    "\n",
    "##    # Annotation example with arrow\n",
    "##    ax2.annotate('Bad News!',(date[11],highp[11]),\n",
    "##                 xytext=(0.8, 0.9), textcoords='axes fraction',\n",
    "##                 arrowprops = dict(facecolor='grey',color='grey'))\n",
    "##\n",
    "##    \n",
    "##    # Font dict example\n",
    "##    font_dict = {'family':'serif',\n",
    "##                 'color':'darkred',\n",
    "##                 'size':15}\n",
    "##    # Hard coded text \n",
    "##    ax2.text(date[10], closep[1],'Text Example', fontdict=font_dict)\n",
    "\n",
    "    #ax2v.plot([],[], color='#0079a3', alpha=0.4, label='Volume')\n",
    "    #ax2v.fill_between(date[-start:],0, volume[-start:], facecolor='#0079a3', alpha=0.4)\n",
    "    #ax2v.axes.yaxis.set_ticklabels([])\n",
    "    #ax2v.grid(False)\n",
    "    #ax2v.set_ylim(0, 3*volume.max())\n",
    "\n",
    "\n",
    "\n",
    "    #ax3.plot(date[-start:], ma1[-start:], linewidth=1, label=(str(MA1)+'MA'))\n",
    "    #ax3.plot(date[-start:], ma2[-start:], linewidth=1, label=(str(MA2)+'MA'))\n",
    "    \n",
    "    #ax3.fill_between(date[-start:], ma2[-start:], ma1[-start:],\n",
    "                     #where=(ma1[-start:] < ma2[-start:]),\n",
    "                     #facecolor='r', edgecolor='r', alpha=0.5)\n",
    "\n",
    "    #ax3.fill_between(date[-start:], ma2[-start:], ma1[-start:],\n",
    "                     #where=(ma1[-start:] > ma2[-start:]),\n",
    "                     #facecolor='g', edgecolor='g', alpha=0.5)\n",
    "    \n",
    "    #ax3.xaxis.set_major_formatter(mdates.DateFormatter('%Y-%m-%d'))\n",
    "    #ax3.xaxis.set_major_locator(mticker.MaxNLocator(10))\n",
    "    #ax3.yaxis.set_major_locator(mticker.MaxNLocator(nbins=4, prune='upper'))\n",
    "\n",
    "    for label in ax3.xaxis.get_ticklabels():\n",
    "        label.set_rotation(45)\n",
    "\n",
    "\n",
    "\n",
    "    plt.setp(ax1.get_xticklabels(), visible=False)\n",
    "    plt.setp(ax2.get_xticklabels(), visible=False)\n",
    "    plt.subplots_adjust(left=0.11, bottom=0.24, right=0.90, top=0.90, wspace=0.2, hspace=0)\n",
    "\n",
    "    ax1.legend()\n",
    "    leg = ax1.legend(loc=9, ncol=2,prop={'size':11})\n",
    "    leg.get_frame().set_alpha(0.4)\n",
    "    \n",
    "    ax2v.legend()\n",
    "    leg = ax2v.legend(loc=9, ncol=2,prop={'size':11})\n",
    "    leg.get_frame().set_alpha(0.4)\n",
    "    \n",
    "    ax3.legend()\n",
    "    leg = ax3.legend(loc=9, ncol=2,prop={'size':11})\n",
    "    leg.get_frame().set_alpha(0.4)\n",
    "    \n",
    "    plt.show()\n",
    "    fig.savefig('google.png', facecolor=fig.get_facecolor())\n",
    "\n",
    "\n",
    "graph_data('GOOG')"
   ]
  },
  {
   "cell_type": "code",
   "execution_count": null,
   "metadata": {
    "collapsed": true
   },
   "outputs": [],
   "source": []
  },
  {
   "cell_type": "code",
   "execution_count": null,
   "metadata": {
    "collapsed": true
   },
   "outputs": [],
   "source": []
  },
  {
   "cell_type": "code",
   "execution_count": null,
   "metadata": {
    "collapsed": true
   },
   "outputs": [],
   "source": []
  },
  {
   "cell_type": "code",
   "execution_count": null,
   "metadata": {
    "collapsed": true
   },
   "outputs": [],
   "source": []
  }
 ],
 "metadata": {
  "kernelspec": {
   "display_name": "Python 3",
   "language": "python",
   "name": "python3"
  },
  "language_info": {
   "codemirror_mode": {
    "name": "ipython",
    "version": 3
   },
   "file_extension": ".py",
   "mimetype": "text/x-python",
   "name": "python",
   "nbconvert_exporter": "python",
   "pygments_lexer": "ipython3",
   "version": "3.6.3"
  }
 },
 "nbformat": 4,
 "nbformat_minor": 2
}
